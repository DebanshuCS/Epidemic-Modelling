{
  "nbformat": 4,
  "nbformat_minor": 0,
  "metadata": {
    "colab": {
      "private_outputs": true,
      "provenance": []
    },
    "kernelspec": {
      "name": "python3",
      "display_name": "Python 3"
    },
    "language_info": {
      "name": "python"
    }
  },
  "cells": [
    {
      "cell_type": "markdown",
      "source": [
        "Welcome to the Outbreak Prediction Colab Notebook!\n"
      ],
      "metadata": {
        "id": "PiYpWmdw6Fqa"
      }
    },
    {
      "cell_type": "markdown",
      "source": [
        "Each section will include references for the materials used to develop this notebook. The data used here is up to date as of the last time the spreadsheet was updated, and all other information is up to date as of 2020."
      ],
      "metadata": {
        "id": "kPMViSgA6eJ3"
      }
    },
    {
      "cell_type": "code",
      "execution_count": null,
      "metadata": {
        "id": "UCdLLy9m5qxS"
      },
      "outputs": [],
      "source": [
        "import pandas as pd \n",
        "import numpy as np \n",
        "import matplotlib.pyplot as plt\n",
        "import datetime\n",
        "from datetime import datetime\n"
      ]
    },
    {
      "cell_type": "markdown",
      "source": [
        "We start by loading the data, organizing it and fianlly plotting it.\n",
        "The dataset that is being used from the European CDC,  but has been compiled into an easier to use spreadsheet."
      ],
      "metadata": {
        "id": "8FrhVT1v6iXc"
      }
    },
    {
      "cell_type": "code",
      "source": [
        "current_data.head()\n"
      ],
      "metadata": {
        "id": "MR0e8KmLHwXK"
      },
      "execution_count": null,
      "outputs": []
    },
    {
      "cell_type": "code",
      "source": [
        "# Here, we load the data directly from the website. \n",
        "#https://ourworldindata.org/coronavirus-source-data\n",
        "\n",
        "current_data = pd.read_csv('https://covid.ourworldindata.org/data/jhu/full_data.csv') \n",
        "current_data_array = np.array(current_data)\n",
        "\n",
        "# Now, we want to get a list of the countries in the spreadsheet to make it easier to visualize our data. \n",
        "\n",
        "locations = np.array(current_data['location'])\n",
        "country_list = list(dict.fromkeys(locations))\n",
        "print(country_list)\n",
        "\n",
        "# To visualize the data from a country of our choice, we need to find the location of that data in the spreadsheet, and save the information to a new location! \n",
        "\n",
        "country_ind = country_list.index('United States') # Type in the name of your country here!\n",
        "new_ind = current_data_array[:,1] == country_list[country_ind]\n",
        "\n",
        "new_cases = current_data_array[new_ind,2]\n",
        "new_deaths = current_data_array[new_ind,3]\n",
        "total_cases = current_data_array[new_ind,4]\n",
        "total_deaths = current_data_array[new_ind,5]\n",
        "\n",
        "dates = np.linspace(1, len(new_cases), len(new_cases)) # Because the US has updated daily, we can do this.\n",
        " #dates = current_data_array[new_ind,0] \n",
        "\n",
        "#For other countries where updates do not occur daily. \n",
        "\n",
        "# Finally, we'll start by visualizing the data from our country of choice. \n",
        "plt.figure(figsize=(8, 8))\n",
        "plt.plot(dates, new_cases, dates, new_deaths)\n",
        "plt.legend(['New Cases', 'New Deaths'])\n",
        "\n",
        "plt.figure(figsize=(8,8))\n",
        "plt.plot(dates, total_cases, dates, total_deaths)\n",
        "plt.legend(['Total Cases', 'Total Deaths'])\n",
        "plt.show()\n"
      ],
      "metadata": {
        "id": "7ZIRyfNK7wmM"
      },
      "execution_count": null,
      "outputs": []
    },
    {
      "cell_type": "markdown",
      "source": [
        "Now that we can see the data from the past, let's try to see what things will look like in the future! To do this, we'll be indirectly using an approach called logistic regression to model exponential growth.\n",
        "Using population data from the US, we'll look at how coronavirus might spread without any intervention. To do this, we'll focus on the data on new cases, and will look at how the number of new cases compares to the available medical resources. We didn't model deaths here.\n",
        "In order to figure out the exact exponential formula, we apply the natural logirithm to the number of new cases over time to get a fairly linear line. This makes it easier to find our formula - all we need to find is the slope!\n",
        "\n",
        "From there, we can model the actual growth by multplying the number of days it's been since we started recording outbreaks by the slope, and then take the exponential of that number. You can see all this below!\n",
        "\n",
        "Now, this approach applies to a point but has several limitations - as fewer people remain healthy, there are fewer people to infect, and the disease spread plateaus. "
      ],
      "metadata": {
        "id": "PGzOIdv48NU6"
      }
    },
    {
      "cell_type": "code",
      "source": [
        "\n",
        "import sklearn\n",
        "from sklearn.linear_model import LinearRegression\n",
        "\n",
        "dates = np.linspace(1, len(new_cases), len(new_cases)) \n",
        "dates = dates[:,np.newaxis] #dates from the US cases \n",
        "\n",
        "log_cases = np.log(np.array(new_cases, dtype=np.float64)) # Taking the natural log of the number of new cases in order to create a linear plot. \n",
        "infs = np.isinf(log_cases) # Setting places where the number of cases was 0 equal to 0 on the log scale - natural log of zero is negative infinity, which won't work with our plots.\n",
        "log_cases[infs] = 0\n",
        "\n",
        "model =  LinearRegression().fit(dates[60:],log_cases[60:]) # Performing a linear regression on the section of the data with new reported cases (Days 60+) \n",
        "pred = model.predict(dates) # Predicting the natural log of the number of cases based on the known dates.\n",
        "\n",
        "dates_into_future = np.linspace(1, 90, 90) # Now, we want to look at future dates\n",
        "fut_pred = model.predict(dates_into_future[60:, np.newaxis]) # Making predictions in future dates\n",
        "\n",
        "plt.figure(figsize=(12, 10)) # Here, we're plotting the natural log of the new cases and the linear model that we've fit to that data. \n",
        "plt.plot(dates,  log_cases, 'o', dates[60:], pred[60:])\n",
        "plt.legend(['ln(New Cases) (Actual)', 'ln(New Cases) (Linear Fit)'])\n",
        "plt.show()\n",
        "\n",
        "plt.figure(figsize=(12, 10)) # Here, we're plotting the actual data and the projection of the next 10 days (Days 81-90) from the linear fit that we made before. \n",
        "plt.plot(dates,  new_cases, 'o', dates_into_future[60:], np.exp(fut_pred))\n",
        "plt.legend(['New Cases (Actual)', 'New Cases (Projected from Linear Fit)'])\n",
        "plt.show()\n"
      ],
      "metadata": {
        "id": "NxWKbaTa8hFy"
      },
      "execution_count": null,
      "outputs": []
    },
    {
      "cell_type": "markdown",
      "source": [
        "***Exponential growth*** **is a useful model for looking at how disease will spread if left unattended, but doesn't factor in a few important details:**\n",
        "\n",
        "\n",
        "\n",
        "There are only so many people in the world, so eventually, the number of new cases has to plateau.\n",
        "People get better! Exponential growth assumes that everyone who catches a disease has it forever, but as we already know, most people end up recovering from coronavirus and becoming either temporarily or permanently immune*. This means that, at some point, this number of people with the disease has to go down.\n",
        "The rate at which the disease spreads can be changed. This is where things like Flattening The Curve and Social Distancing come in - if you're not around other people, than the replication rate of the disease decreases because you physically can't spread it.\n",
        "*We don't currently know how long someone is immune to coronavirus after recovering from it.\n",
        "\n",
        "\n",
        "Another model that we can use to address these assumptions is the ***SIR model***. This model assumes that there is a certain population of people who can catch the disease (S), a population of people who are infected (I), and a population of people who are recovered and have immunity (R).\n",
        "\n",
        "This model relies on solving a set of differential equations, which I'm not going to get into the details of, but in short:\n",
        "\n",
        "The number of people who can catch the disease decreases based on their contact with those infected.\n",
        "The number of people infected increases and decreases based on the number of people they have contact with and how long it takes to recover.\n",
        "The number of people who are immune increases based on the time it takes to recover when infected.\n",
        "This is a better model, but it also makes some assumptions and omits some important details. Namely, it doesn't account for death. The total population does not change, just the ratio of the number of susceptible, infected, and immune people.\n",
        "\n",
        "For the purposes of this example, I also make a few assumptions:\n",
        "\n",
        "-The recovery rate is based on the assumption that it takes about two weeks to recover from the disease AND that a person who has recovered cannot spread it to others. We don't know if this is actually true.\n",
        "\n",
        "-The contact rate describes the number of people that an infected person comes into contact with per day. This value varies based on things like Flattening The Curve and Social Distancing - if you're not around other people, the numbeer goes down, and the disease spreads less.\n",
        "\n",
        "-The contact rate used here is commonly used for the flu, but we don't really have a contact rate that reflects both how many people you come in contact with and how infectious the disease is for coronavirus. In other words, this shows the relative effect of social distancing on flattening the curve, but these values should not be taken as fact. \n"
      ],
      "metadata": {
        "id": "-dVEvtTD9HAT"
      }
    },
    {
      "cell_type": "code",
      "source": [
        "import scipy\n",
        "from scipy.integrate import odeint\n",
        "\n",
        "population = 327200000 # Population of the United States\n",
        "\n",
        "initial_infected, initial_recovered = 1, 0 # Initial conditions for infected and recovered people\n",
        "\n",
        "initial_everyone_else = population - initial_infected - initial_recovered # Initial conditions for everyone else. \n",
        "\n",
        "initial_conditions = initial_everyone_else, initial_infected, initial_recovered \n",
        "\n",
        "n_days = 500 # Days over which to integrate \n",
        "time = np.linspace(0, n_days, n_days)\n",
        "\n",
        "contact_rate = 0.25 # Contact Rate - We don't know this for coronavirus, so use it as a relative term for comparison. \n",
        "recovery_rate = 1/14 # Recovery Rate - \n",
        "\n",
        "# The SIR model, integreated over 500 days. \n",
        "\n",
        "def SIR(initial_conditions, t, population, contact_rate, recovery_rate):\n",
        "  S, I, R = initial_conditions \n",
        "  dS = -contact_rate*S*I/population\n",
        "  dI = contact_rate*S*I/population - recovery_rate*I \n",
        "  dR = recovery_rate*I \n",
        "  return dS, dI, dR\n",
        "\n",
        "result = odeint(SIR, initial_conditions, time, args=(population, contact_rate, recovery_rate))\n",
        "S, I, R = result.T\n",
        "\n",
        "fig = plt.figure(facecolor='w')\n",
        "ax = fig.add_subplot(111, axisbelow=True)\n",
        "ax.plot(time, S/1000, 'b', alpha=0.5, lw=2, label='Susceptible')\n",
        "ax.plot(time, I/1000, 'r', alpha=0.5, lw=2, label='Infected')\n",
        "ax.plot(time, R/1000, 'g', alpha=0.5, lw=2, label='Recovered with immunity')\n",
        "ax.set_xlabel('Days')\n",
        "ax.set_ylabel('Number (1000s)')\n",
        "legend = ax.legend()\n",
        "legend.get_frame().set_alpha(0.5)\n",
        "\n",
        "fig = plt.figure(facecolor='w', figsize=(9, 10))\n",
        "ax = fig.add_subplot(111, axisbelow=True)\n",
        "ax.plot(time, S/1000, 'b', alpha=0.5, lw=10, label='Susceptible')\n",
        "ax.plot(time, I/1000, 'r', alpha=0.5, lw=10, label='Infected')\n",
        "ax.plot(time, R/1000, 'g', alpha=0.5, lw=10, label='Recovered with immunity')\n",
        "ax.set_xlabel('Days')\n",
        "ax.set_ylabel('Number (1000s)')\n",
        "\n",
        "\n",
        "# What happens if we're in contact with fewer people? \n",
        "contact_rate = 0.15\n",
        "\n",
        "result = odeint(SIR, initial_conditions, time, args=(population, contact_rate, recovery_rate))\n",
        "S, I, R = result.T\n",
        "\n",
        "fig = plt.figure(facecolor='w')\n",
        "ax = fig.add_subplot(111, axisbelow=True)\n",
        "ax.plot(time, S/1000, 'b', alpha=0.5, lw=2, label='Susceptible')\n",
        "ax.plot(time, I/1000, 'r', alpha=0.5, lw=2, label='Infected')\n",
        "ax.plot(time, R/1000, 'g', alpha=0.5, lw=2, label='Recovered with immunity')\n",
        "ax.set_xlabel('Days')\n",
        "ax.set_ylabel('Number (1000s)')\n",
        "legend = ax.legend()\n",
        "legend.get_frame().set_alpha(0.5)\n",
        "plt.show()\n"
      ],
      "metadata": {
        "id": "sqXwQ_xW9ZyZ"
      },
      "execution_count": null,
      "outputs": []
    },
    {
      "cell_type": "markdown",
      "source": [
        "The SIR epidemic model\n",
        "A simple mathematical description of the spread of a disease in a population is the so-called SIR model, which divides the (fixed) population of N individuals into three \"compartments\" which may vary as a function of time, t:\n",
        "\n",
        "S(t) are those susceptible but not yet infected with the disease;\n",
        "I(t) is the number of infectious individuals;\n",
        "R(t) are those individuals who have recovered from the disease and now have immunity to it.\n",
        "The SIR model describes the change in the population of each of these compartments in terms of two parameters, β and γ. β describes the effective contact rate of the disease: an infected individual comes into contact with βN other individuals per unit time (of which the fraction that are susceptible to contracting the disease is S/N). γ is the mean recovery rate: that is, 1/γ is the mean period of time during which an infected individual can pass it on.\n",
        "\n",
        "dSdtdIdtdRdt=−βSIN,=βSIN−γI,=γI.\n",
        "\n",
        "The following Python code integrates these equations for a disease characterised by parameters β=0.2, 1/γ=10days in a population of N=1000 (perhaps 'flu in a school). The model is started with a single infected individual on day 0: I(0)=1.\n",
        "The plotted curves of S(t), I(t) and R(t) are styled to look a bit nicer than Matplotlib's defaults."
      ],
      "metadata": {
        "id": "jEjnCit-KVz1"
      }
    },
    {
      "cell_type": "code",
      "source": [
        "import numpy as np\n",
        "from scipy.integrate import odeint\n",
        "import matplotlib.pyplot as plt\n",
        "\n",
        "# Total population, N.\n",
        "N = 1000\n",
        "# Initial number of infected and recovered individuals, I0 and R0.\n",
        "I0, R0 = 1, 0\n",
        "# Everyone else, S0, is susceptible to infection initially.\n",
        "S0 = N - I0 - R0\n",
        "# Contact rate, beta, and mean recovery rate, gamma, (in 1/days).\n",
        "beta, gamma = 0.2, 1./10 \n",
        "# A grid of time points (in days)\n",
        "t = np.linspace(0, 160, 160)\n",
        "\n",
        "# The SIR model differential equations.\n",
        "def deriv(y, t, N, beta, gamma):\n",
        "    S, I, R = y\n",
        "    dSdt = -beta * S * I / N\n",
        "    dIdt = beta * S * I / N - gamma * I\n",
        "    dRdt = gamma * I\n",
        "    return dSdt, dIdt, dRdt\n",
        "\n",
        "# Initial conditions vector\n",
        "y0 = S0, I0, R0\n",
        "# Integrate the SIR equations over the time grid, t.\n",
        "ret = odeint(deriv, y0, t, args=(N, beta, gamma))\n",
        "S, I, R = ret.T\n",
        "\n",
        "# Plot the data on three separate curves for S(t), I(t) and R(t)\n",
        "fig = plt.figure(facecolor='w')\n",
        "ax = fig.add_subplot(111, facecolor='#dddddd', axisbelow=True)\n",
        "ax.plot(t, S/1000, 'b', alpha=0.5, lw=2, label='Susceptible')\n",
        "ax.plot(t, I/1000, 'r', alpha=0.5, lw=2, label='Infected')\n",
        "ax.plot(t, R/1000, 'g', alpha=0.5, lw=2, label='Recovered with immunity')\n",
        "ax.set_xlabel('Time /days')\n",
        "ax.set_ylabel('Number (1000s)')\n",
        "ax.set_ylim(0,1.2)\n",
        "ax.yaxis.set_tick_params(length=0)\n",
        "ax.xaxis.set_tick_params(length=0)\n",
        "ax.grid(b=True, which='major', c='w', lw=2, ls='-')\n",
        "legend = ax.legend()\n",
        "legend.get_frame().set_alpha(0.5)\n",
        "for spine in ('top', 'right', 'bottom', 'left'):\n",
        "    ax.spines[spine].set_visible(False)\n",
        "plt.show()"
      ],
      "metadata": {
        "id": "hXuEzhx0KKGM"
      },
      "execution_count": null,
      "outputs": []
    }
  ]
}
